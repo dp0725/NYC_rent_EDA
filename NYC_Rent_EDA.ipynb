{
 "cells": [
  {
   "cell_type": "code",
   "execution_count": 1,
   "metadata": {},
   "outputs": [],
   "source": [
    "import pandas as pd\n",
    "import numpy as np"
   ]
  },
  {
   "cell_type": "code",
   "execution_count": 2,
   "metadata": {},
   "outputs": [],
   "source": [
    "import matplotlib.pyplot as plt\n",
    "#%config InlineBackend.figure_format = 'svg'   # svg vs png format make sharper images!\n",
    "%config InlineBackend.figure_format = 'retina' # much faster than svg when generating lots of points"
   ]
  },
  {
   "cell_type": "code",
   "execution_count": 3,
   "metadata": {},
   "outputs": [
    {
     "data": {
      "text/html": [
       "<div>\n",
       "<style scoped>\n",
       "    .dataframe tbody tr th:only-of-type {\n",
       "        vertical-align: middle;\n",
       "    }\n",
       "\n",
       "    .dataframe tbody tr th {\n",
       "        vertical-align: top;\n",
       "    }\n",
       "\n",
       "    .dataframe thead th {\n",
       "        text-align: right;\n",
       "    }\n",
       "</style>\n",
       "<table border=\"1\" class=\"dataframe\">\n",
       "  <thead>\n",
       "    <tr style=\"text-align: right;\">\n",
       "      <th></th>\n",
       "      <th>bathrooms</th>\n",
       "      <th>bedrooms</th>\n",
       "      <th>building_id</th>\n",
       "      <th>created</th>\n",
       "      <th>description</th>\n",
       "      <th>display_address</th>\n",
       "      <th>features</th>\n",
       "      <th>latitude</th>\n",
       "      <th>listing_id</th>\n",
       "      <th>longitude</th>\n",
       "      <th>manager_id</th>\n",
       "      <th>photos</th>\n",
       "      <th>price</th>\n",
       "      <th>street_address</th>\n",
       "      <th>interest_level</th>\n",
       "    </tr>\n",
       "  </thead>\n",
       "  <tbody>\n",
       "    <tr>\n",
       "      <td>4</td>\n",
       "      <td>1.0</td>\n",
       "      <td>1</td>\n",
       "      <td>8579a0b0d54db803821a35a4a615e97a</td>\n",
       "      <td>2016-06-16 05:55:27</td>\n",
       "      <td>Spacious 1 Bedroom 1 Bathroom in Williamsburg!...</td>\n",
       "      <td>145 Borinquen Place</td>\n",
       "      <td>[Dining Room, Pre-War, Laundry in Building, Di...</td>\n",
       "      <td>40.7108</td>\n",
       "      <td>7170325</td>\n",
       "      <td>-73.9539</td>\n",
       "      <td>a10db4590843d78c784171a107bdacb4</td>\n",
       "      <td>[https://photos.renthop.com/2/7170325_3bb5ac84...</td>\n",
       "      <td>2400</td>\n",
       "      <td>145 Borinquen Place</td>\n",
       "      <td>medium</td>\n",
       "    </tr>\n",
       "    <tr>\n",
       "      <td>6</td>\n",
       "      <td>1.0</td>\n",
       "      <td>2</td>\n",
       "      <td>b8e75fc949a6cd8225b455648a951712</td>\n",
       "      <td>2016-06-01 05:44:33</td>\n",
       "      <td>BRAND NEW GUT RENOVATED TRUE 2 BEDROOMFind you...</td>\n",
       "      <td>East 44th</td>\n",
       "      <td>[Doorman, Elevator, Laundry in Building, Dishw...</td>\n",
       "      <td>40.7513</td>\n",
       "      <td>7092344</td>\n",
       "      <td>-73.9722</td>\n",
       "      <td>955db33477af4f40004820b4aed804a0</td>\n",
       "      <td>[https://photos.renthop.com/2/7092344_7663c19a...</td>\n",
       "      <td>3800</td>\n",
       "      <td>230 East 44th</td>\n",
       "      <td>low</td>\n",
       "    </tr>\n",
       "    <tr>\n",
       "      <td>9</td>\n",
       "      <td>1.0</td>\n",
       "      <td>2</td>\n",
       "      <td>cd759a988b8f23924b5a2058d5ab2b49</td>\n",
       "      <td>2016-06-14 15:19:59</td>\n",
       "      <td>**FLEX 2 BEDROOM WITH FULL PRESSURIZED WALL**L...</td>\n",
       "      <td>East 56th Street</td>\n",
       "      <td>[Doorman, Elevator, Laundry in Building, Laund...</td>\n",
       "      <td>40.7575</td>\n",
       "      <td>7158677</td>\n",
       "      <td>-73.9625</td>\n",
       "      <td>c8b10a317b766204f08e613cef4ce7a0</td>\n",
       "      <td>[https://photos.renthop.com/2/7158677_c897a134...</td>\n",
       "      <td>3495</td>\n",
       "      <td>405 East 56th Street</td>\n",
       "      <td>medium</td>\n",
       "    </tr>\n",
       "    <tr>\n",
       "      <td>10</td>\n",
       "      <td>1.5</td>\n",
       "      <td>3</td>\n",
       "      <td>53a5b119ba8f7b61d4e010512e0dfc85</td>\n",
       "      <td>2016-06-24 07:54:24</td>\n",
       "      <td>A Brand New 3 Bedroom 1.5 bath ApartmentEnjoy ...</td>\n",
       "      <td>Metropolitan Avenue</td>\n",
       "      <td>[]</td>\n",
       "      <td>40.7145</td>\n",
       "      <td>7211212</td>\n",
       "      <td>-73.9425</td>\n",
       "      <td>5ba989232d0489da1b5f2c45f6688adc</td>\n",
       "      <td>[https://photos.renthop.com/2/7211212_1ed4542e...</td>\n",
       "      <td>3000</td>\n",
       "      <td>792 Metropolitan Avenue</td>\n",
       "      <td>medium</td>\n",
       "    </tr>\n",
       "    <tr>\n",
       "      <td>15</td>\n",
       "      <td>1.0</td>\n",
       "      <td>0</td>\n",
       "      <td>bfb9405149bfff42a92980b594c28234</td>\n",
       "      <td>2016-06-28 03:50:23</td>\n",
       "      <td>Over-sized Studio w abundant closets. Availabl...</td>\n",
       "      <td>East 34th Street</td>\n",
       "      <td>[Doorman, Elevator, Fitness Center, Laundry in...</td>\n",
       "      <td>40.7439</td>\n",
       "      <td>7225292</td>\n",
       "      <td>-73.9743</td>\n",
       "      <td>2c3b41f588fbb5234d8a1e885a436cfa</td>\n",
       "      <td>[https://photos.renthop.com/2/7225292_901f1984...</td>\n",
       "      <td>2795</td>\n",
       "      <td>340 East 34th Street</td>\n",
       "      <td>low</td>\n",
       "    </tr>\n",
       "  </tbody>\n",
       "</table>\n",
       "</div>"
      ],
      "text/plain": [
       "    bathrooms  bedrooms                       building_id  \\\n",
       "4         1.0         1  8579a0b0d54db803821a35a4a615e97a   \n",
       "6         1.0         2  b8e75fc949a6cd8225b455648a951712   \n",
       "9         1.0         2  cd759a988b8f23924b5a2058d5ab2b49   \n",
       "10        1.5         3  53a5b119ba8f7b61d4e010512e0dfc85   \n",
       "15        1.0         0  bfb9405149bfff42a92980b594c28234   \n",
       "\n",
       "                created                                        description  \\\n",
       "4   2016-06-16 05:55:27  Spacious 1 Bedroom 1 Bathroom in Williamsburg!...   \n",
       "6   2016-06-01 05:44:33  BRAND NEW GUT RENOVATED TRUE 2 BEDROOMFind you...   \n",
       "9   2016-06-14 15:19:59  **FLEX 2 BEDROOM WITH FULL PRESSURIZED WALL**L...   \n",
       "10  2016-06-24 07:54:24  A Brand New 3 Bedroom 1.5 bath ApartmentEnjoy ...   \n",
       "15  2016-06-28 03:50:23  Over-sized Studio w abundant closets. Availabl...   \n",
       "\n",
       "        display_address                                           features  \\\n",
       "4   145 Borinquen Place  [Dining Room, Pre-War, Laundry in Building, Di...   \n",
       "6             East 44th  [Doorman, Elevator, Laundry in Building, Dishw...   \n",
       "9      East 56th Street  [Doorman, Elevator, Laundry in Building, Laund...   \n",
       "10  Metropolitan Avenue                                                 []   \n",
       "15     East 34th Street  [Doorman, Elevator, Fitness Center, Laundry in...   \n",
       "\n",
       "    latitude  listing_id  longitude                        manager_id  \\\n",
       "4    40.7108     7170325   -73.9539  a10db4590843d78c784171a107bdacb4   \n",
       "6    40.7513     7092344   -73.9722  955db33477af4f40004820b4aed804a0   \n",
       "9    40.7575     7158677   -73.9625  c8b10a317b766204f08e613cef4ce7a0   \n",
       "10   40.7145     7211212   -73.9425  5ba989232d0489da1b5f2c45f6688adc   \n",
       "15   40.7439     7225292   -73.9743  2c3b41f588fbb5234d8a1e885a436cfa   \n",
       "\n",
       "                                               photos  price  \\\n",
       "4   [https://photos.renthop.com/2/7170325_3bb5ac84...   2400   \n",
       "6   [https://photos.renthop.com/2/7092344_7663c19a...   3800   \n",
       "9   [https://photos.renthop.com/2/7158677_c897a134...   3495   \n",
       "10  [https://photos.renthop.com/2/7211212_1ed4542e...   3000   \n",
       "15  [https://photos.renthop.com/2/7225292_901f1984...   2795   \n",
       "\n",
       "             street_address interest_level  \n",
       "4       145 Borinquen Place         medium  \n",
       "6             230 East 44th            low  \n",
       "9      405 East 56th Street         medium  \n",
       "10  792 Metropolitan Avenue         medium  \n",
       "15     340 East 34th Street            low  "
      ]
     },
     "execution_count": 3,
     "metadata": {},
     "output_type": "execute_result"
    }
   ],
   "source": [
    "rent = pd.read_json('train.json')\n",
    "rent.head(5)"
   ]
  },
  {
   "cell_type": "code",
   "execution_count": 4,
   "metadata": {},
   "outputs": [
    {
     "name": "stdout",
     "output_type": "stream",
     "text": [
      "<class 'pandas.core.frame.DataFrame'>\n",
      "Int64Index: 49352 entries, 4 to 124009\n",
      "Data columns (total 15 columns):\n",
      "bathrooms          49352 non-null float64\n",
      "bedrooms           49352 non-null int64\n",
      "building_id        49352 non-null object\n",
      "created            49352 non-null object\n",
      "description        49352 non-null object\n",
      "display_address    49352 non-null object\n",
      "features           49352 non-null object\n",
      "latitude           49352 non-null float64\n",
      "listing_id         49352 non-null int64\n",
      "longitude          49352 non-null float64\n",
      "manager_id         49352 non-null object\n",
      "photos             49352 non-null object\n",
      "price              49352 non-null int64\n",
      "street_address     49352 non-null object\n",
      "interest_level     49352 non-null object\n",
      "dtypes: float64(3), int64(3), object(9)\n",
      "memory usage: 6.0+ MB\n"
     ]
    }
   ],
   "source": [
    "rent.info()"
   ]
  },
  {
   "cell_type": "markdown",
   "metadata": {},
   "source": [
    "When the data is very wide like this, sometimes it makes sense to show the transpose for the first few records:"
   ]
  },
  {
   "cell_type": "code",
   "execution_count": 5,
   "metadata": {},
   "outputs": [
    {
     "data": {
      "text/html": [
       "<div>\n",
       "<style scoped>\n",
       "    .dataframe tbody tr th:only-of-type {\n",
       "        vertical-align: middle;\n",
       "    }\n",
       "\n",
       "    .dataframe tbody tr th {\n",
       "        vertical-align: top;\n",
       "    }\n",
       "\n",
       "    .dataframe thead th {\n",
       "        text-align: right;\n",
       "    }\n",
       "</style>\n",
       "<table border=\"1\" class=\"dataframe\">\n",
       "  <thead>\n",
       "    <tr style=\"text-align: right;\">\n",
       "      <th></th>\n",
       "      <th>4</th>\n",
       "      <th>6</th>\n",
       "      <th>9</th>\n",
       "    </tr>\n",
       "  </thead>\n",
       "  <tbody>\n",
       "    <tr>\n",
       "      <td>bathrooms</td>\n",
       "      <td>1</td>\n",
       "      <td>1</td>\n",
       "      <td>1</td>\n",
       "    </tr>\n",
       "    <tr>\n",
       "      <td>bedrooms</td>\n",
       "      <td>1</td>\n",
       "      <td>2</td>\n",
       "      <td>2</td>\n",
       "    </tr>\n",
       "    <tr>\n",
       "      <td>building_id</td>\n",
       "      <td>8579a0b0d54db803821a35a4a615e97a</td>\n",
       "      <td>b8e75fc949a6cd8225b455648a951712</td>\n",
       "      <td>cd759a988b8f23924b5a2058d5ab2b49</td>\n",
       "    </tr>\n",
       "    <tr>\n",
       "      <td>created</td>\n",
       "      <td>2016-06-16 05:55:27</td>\n",
       "      <td>2016-06-01 05:44:33</td>\n",
       "      <td>2016-06-14 15:19:59</td>\n",
       "    </tr>\n",
       "    <tr>\n",
       "      <td>description</td>\n",
       "      <td>Spacious 1 Bedroom 1 Bathroom in Williamsburg!...</td>\n",
       "      <td>BRAND NEW GUT RENOVATED TRUE 2 BEDROOMFind you...</td>\n",
       "      <td>**FLEX 2 BEDROOM WITH FULL PRESSURIZED WALL**L...</td>\n",
       "    </tr>\n",
       "    <tr>\n",
       "      <td>display_address</td>\n",
       "      <td>145 Borinquen Place</td>\n",
       "      <td>East 44th</td>\n",
       "      <td>East 56th Street</td>\n",
       "    </tr>\n",
       "    <tr>\n",
       "      <td>features</td>\n",
       "      <td>[Dining Room, Pre-War, Laundry in Building, Di...</td>\n",
       "      <td>[Doorman, Elevator, Laundry in Building, Dishw...</td>\n",
       "      <td>[Doorman, Elevator, Laundry in Building, Laund...</td>\n",
       "    </tr>\n",
       "    <tr>\n",
       "      <td>latitude</td>\n",
       "      <td>40.7108</td>\n",
       "      <td>40.7513</td>\n",
       "      <td>40.7575</td>\n",
       "    </tr>\n",
       "    <tr>\n",
       "      <td>listing_id</td>\n",
       "      <td>7170325</td>\n",
       "      <td>7092344</td>\n",
       "      <td>7158677</td>\n",
       "    </tr>\n",
       "    <tr>\n",
       "      <td>longitude</td>\n",
       "      <td>-73.9539</td>\n",
       "      <td>-73.9722</td>\n",
       "      <td>-73.9625</td>\n",
       "    </tr>\n",
       "    <tr>\n",
       "      <td>manager_id</td>\n",
       "      <td>a10db4590843d78c784171a107bdacb4</td>\n",
       "      <td>955db33477af4f40004820b4aed804a0</td>\n",
       "      <td>c8b10a317b766204f08e613cef4ce7a0</td>\n",
       "    </tr>\n",
       "    <tr>\n",
       "      <td>photos</td>\n",
       "      <td>[https://photos.renthop.com/2/7170325_3bb5ac84...</td>\n",
       "      <td>[https://photos.renthop.com/2/7092344_7663c19a...</td>\n",
       "      <td>[https://photos.renthop.com/2/7158677_c897a134...</td>\n",
       "    </tr>\n",
       "    <tr>\n",
       "      <td>price</td>\n",
       "      <td>2400</td>\n",
       "      <td>3800</td>\n",
       "      <td>3495</td>\n",
       "    </tr>\n",
       "    <tr>\n",
       "      <td>street_address</td>\n",
       "      <td>145 Borinquen Place</td>\n",
       "      <td>230 East 44th</td>\n",
       "      <td>405 East 56th Street</td>\n",
       "    </tr>\n",
       "    <tr>\n",
       "      <td>interest_level</td>\n",
       "      <td>medium</td>\n",
       "      <td>low</td>\n",
       "      <td>medium</td>\n",
       "    </tr>\n",
       "  </tbody>\n",
       "</table>\n",
       "</div>"
      ],
      "text/plain": [
       "                                                                 4  \\\n",
       "bathrooms                                                        1   \n",
       "bedrooms                                                         1   \n",
       "building_id                       8579a0b0d54db803821a35a4a615e97a   \n",
       "created                                        2016-06-16 05:55:27   \n",
       "description      Spacious 1 Bedroom 1 Bathroom in Williamsburg!...   \n",
       "display_address                                145 Borinquen Place   \n",
       "features         [Dining Room, Pre-War, Laundry in Building, Di...   \n",
       "latitude                                                   40.7108   \n",
       "listing_id                                                 7170325   \n",
       "longitude                                                 -73.9539   \n",
       "manager_id                        a10db4590843d78c784171a107bdacb4   \n",
       "photos           [https://photos.renthop.com/2/7170325_3bb5ac84...   \n",
       "price                                                         2400   \n",
       "street_address                                 145 Borinquen Place   \n",
       "interest_level                                              medium   \n",
       "\n",
       "                                                                 6  \\\n",
       "bathrooms                                                        1   \n",
       "bedrooms                                                         2   \n",
       "building_id                       b8e75fc949a6cd8225b455648a951712   \n",
       "created                                        2016-06-01 05:44:33   \n",
       "description      BRAND NEW GUT RENOVATED TRUE 2 BEDROOMFind you...   \n",
       "display_address                                          East 44th   \n",
       "features         [Doorman, Elevator, Laundry in Building, Dishw...   \n",
       "latitude                                                   40.7513   \n",
       "listing_id                                                 7092344   \n",
       "longitude                                                 -73.9722   \n",
       "manager_id                        955db33477af4f40004820b4aed804a0   \n",
       "photos           [https://photos.renthop.com/2/7092344_7663c19a...   \n",
       "price                                                         3800   \n",
       "street_address                                       230 East 44th   \n",
       "interest_level                                                 low   \n",
       "\n",
       "                                                                 9  \n",
       "bathrooms                                                        1  \n",
       "bedrooms                                                         2  \n",
       "building_id                       cd759a988b8f23924b5a2058d5ab2b49  \n",
       "created                                        2016-06-14 15:19:59  \n",
       "description      **FLEX 2 BEDROOM WITH FULL PRESSURIZED WALL**L...  \n",
       "display_address                                   East 56th Street  \n",
       "features         [Doorman, Elevator, Laundry in Building, Laund...  \n",
       "latitude                                                   40.7575  \n",
       "listing_id                                                 7158677  \n",
       "longitude                                                 -73.9625  \n",
       "manager_id                        c8b10a317b766204f08e613cef4ce7a0  \n",
       "photos           [https://photos.renthop.com/2/7158677_c897a134...  \n",
       "price                                                         3495  \n",
       "street_address                                405 East 56th Street  \n",
       "interest_level                                              medium  "
      ]
     },
     "execution_count": 5,
     "metadata": {},
     "output_type": "execute_result"
    }
   ],
   "source": [
    "rent.head(3).T"
   ]
  },
  {
   "cell_type": "markdown",
   "metadata": {},
   "source": [
    "###### Firstly check if there are any missing data in our dataset"
   ]
  },
  {
   "cell_type": "code",
   "execution_count": 6,
   "metadata": {},
   "outputs": [
    {
     "data": {
      "text/plain": [
       "bathrooms          False\n",
       "bedrooms           False\n",
       "building_id        False\n",
       "created            False\n",
       "description        False\n",
       "display_address    False\n",
       "features           False\n",
       "latitude           False\n",
       "listing_id         False\n",
       "longitude          False\n",
       "manager_id         False\n",
       "photos             False\n",
       "price              False\n",
       "street_address     False\n",
       "interest_level     False\n",
       "dtype: bool"
      ]
     },
     "execution_count": 6,
     "metadata": {},
     "output_type": "execute_result"
    }
   ],
   "source": [
    "rent.isnull().any()"
   ]
  },
  {
   "cell_type": "markdown",
   "metadata": {},
   "source": [
    "We don't have missing data in our dataset but that there may be some values that were not physically missing but have sentinel values that indicate missing"
   ]
  },
  {
   "cell_type": "markdown",
   "metadata": {},
   "source": [
    "By observing the data there are 3 columns which can be transormed features, photos are in list and interest_level seems categorical value. Because we read in the data with JSON and not CSV, pandas has created actual list objects for us, since that is how they were represented in JSON format. So these are not stored as strings but as lists. Anything nonnumeric, pandas stores as \"Object\":"
   ]
  },
  {
   "cell_type": "code",
   "execution_count": 7,
   "metadata": {},
   "outputs": [
    {
     "data": {
      "text/plain": [
       "4    [Dining Room, Pre-War, Laundry in Building, Di...\n",
       "6    [Doorman, Elevator, Laundry in Building, Dishw...\n",
       "9    [Doorman, Elevator, Laundry in Building, Laund...\n",
       "Name: features, dtype: object"
      ]
     },
     "execution_count": 7,
     "metadata": {},
     "output_type": "execute_result"
    }
   ],
   "source": [
    "rent['features'].head(3)"
   ]
  },
  {
   "cell_type": "code",
   "execution_count": 8,
   "metadata": {},
   "outputs": [
    {
     "data": {
      "text/plain": [
       "4    [https://photos.renthop.com/2/7170325_3bb5ac84...\n",
       "6    [https://photos.renthop.com/2/7092344_7663c19a...\n",
       "9    [https://photos.renthop.com/2/7158677_c897a134...\n",
       "Name: photos, dtype: object"
      ]
     },
     "execution_count": 8,
     "metadata": {},
     "output_type": "execute_result"
    }
   ],
   "source": [
    "rent['photos'].head(3)"
   ]
  },
  {
   "cell_type": "code",
   "execution_count": 9,
   "metadata": {},
   "outputs": [
    {
     "data": {
      "text/plain": [
       "4    medium\n",
       "6       low\n",
       "9    medium\n",
       "Name: interest_level, dtype: object"
      ]
     },
     "execution_count": 9,
     "metadata": {},
     "output_type": "execute_result"
    }
   ],
   "source": [
    "rent['interest_level'].head(3)"
   ]
  },
  {
   "cell_type": "markdown",
   "metadata": {},
   "source": [
    "###### Identifying categorical values and converting them to proper datatype"
   ]
  },
  {
   "cell_type": "code",
   "execution_count": 10,
   "metadata": {},
   "outputs": [
    {
     "data": {
      "text/plain": [
       "array(['medium', 'low', 'high'], dtype=object)"
      ]
     },
     "execution_count": 10,
     "metadata": {},
     "output_type": "execute_result"
    }
   ],
   "source": [
    "rent['interest_level'].unique()  # yep, looks like an ordinal categorical"
   ]
  },
  {
   "cell_type": "code",
   "execution_count": 11,
   "metadata": {},
   "outputs": [
    {
     "data": {
      "text/plain": [
       "4     medium\n",
       "6        low\n",
       "9     medium\n",
       "10    medium\n",
       "15       low\n",
       "Name: interest_level, dtype: category\n",
       "Categories (3, object): [high < low < medium]"
      ]
     },
     "execution_count": 11,
     "metadata": {},
     "output_type": "execute_result"
    }
   ],
   "source": [
    "rent['interest_level'] = rent['interest_level'].astype('category') # convert datatype to categorical\n",
    "rent['interest_level'] = rent['interest_level'].cat.as_ordered()   #Set the Categorical to be ordered\n",
    "rent['interest_level'].head(5)"
   ]
  },
  {
   "cell_type": "markdown",
   "metadata": {},
   "source": [
    "Once we have converted a column to be categorical, we can then access a group of functions via cat. Above, df_rent['interest_level'].cat.xxx accesses any category related functions or values (xxx) associated with that particular column. For example, here is how to get the integer representation for each category level"
   ]
  },
  {
   "cell_type": "code",
   "execution_count": 12,
   "metadata": {},
   "outputs": [
    {
     "data": {
      "text/plain": [
       "4         2\n",
       "6         1\n",
       "9         2\n",
       "10        2\n",
       "15        1\n",
       "         ..\n",
       "124000    1\n",
       "124002    2\n",
       "124004    2\n",
       "124008    2\n",
       "124009    0\n",
       "Length: 49352, dtype: int8"
      ]
     },
     "execution_count": 12,
     "metadata": {},
     "output_type": "execute_result"
    }
   ],
   "source": [
    "rent['interest_level'].cat.codes"
   ]
  },
  {
   "cell_type": "markdown",
   "metadata": {},
   "source": [
    "That category order doesn't look right so let's make sure that it goes from low to high. We want low=0, medium=1, high=2. The reason to do so is mainly for modeling purposes, but it's a good idea to be rigorous."
   ]
  },
  {
   "cell_type": "code",
   "execution_count": 13,
   "metadata": {},
   "outputs": [
    {
     "data": {
      "text/plain": [
       "4         medium\n",
       "6            low\n",
       "9         medium\n",
       "10        medium\n",
       "15           low\n",
       "           ...  \n",
       "124000       low\n",
       "124002    medium\n",
       "124004    medium\n",
       "124008    medium\n",
       "124009      high\n",
       "Name: interest_level, Length: 49352, dtype: category\n",
       "Categories (3, object): [low < medium < high]"
      ]
     },
     "execution_count": 13,
     "metadata": {},
     "output_type": "execute_result"
    }
   ],
   "source": [
    "rent['interest_level'] = rent['interest_level'].cat.reorder_categories(['low','medium','high'])\n",
    "rent['interest_level']"
   ]
  },
  {
   "cell_type": "code",
   "execution_count": 14,
   "metadata": {},
   "outputs": [
    {
     "data": {
      "text/plain": [
       "4         1\n",
       "6         0\n",
       "9         1\n",
       "10        1\n",
       "15        0\n",
       "         ..\n",
       "124000    0\n",
       "124002    1\n",
       "124004    1\n",
       "124008    1\n",
       "124009    2\n",
       "Length: 49352, dtype: int8"
      ]
     },
     "execution_count": 14,
     "metadata": {},
     "output_type": "execute_result"
    }
   ],
   "source": [
    "rent['interest_level'].cat.codes"
   ]
  },
  {
   "cell_type": "markdown",
   "metadata": {},
   "source": [
    "Now the categories are correctly mapped to 0, 1, and 2.\n",
    "\n",
    "Categorical variables look like strings when we print them out, but they are stored very efficiently as the integer equivalents. Converting these strings to categorical variables is more important for machine learning, but it can also make queries faster or simpler for EDA purposes."
   ]
  },
  {
   "cell_type": "markdown",
   "metadata": {},
   "source": [
    "#### Basic exploration of numerical features"
   ]
  },
  {
   "cell_type": "markdown",
   "metadata": {},
   "source": [
    "###### Uniqueness, counts, histograms"
   ]
  },
  {
   "cell_type": "code",
   "execution_count": 15,
   "metadata": {},
   "outputs": [
    {
     "data": {
      "text/plain": [
       "array([1, 2, 3, 0, 4, 5, 6, 8, 7], dtype=int64)"
      ]
     },
     "execution_count": 15,
     "metadata": {},
     "output_type": "execute_result"
    }
   ],
   "source": [
    "rent['bedrooms'].unique()"
   ]
  },
  {
   "cell_type": "code",
   "execution_count": 16,
   "metadata": {},
   "outputs": [
    {
     "data": {
      "text/plain": [
       "1    15752\n",
       "2    14623\n",
       "0     9475\n",
       "3     7276\n",
       "4     1929\n",
       "5      247\n",
       "6       46\n",
       "8        2\n",
       "7        2\n",
       "Name: bedrooms, dtype: int64"
      ]
     },
     "execution_count": 16,
     "metadata": {},
     "output_type": "execute_result"
    }
   ],
   "source": [
    "rent['bedrooms'].value_counts()"
   ]
  },
  {
   "cell_type": "code",
   "execution_count": 17,
   "metadata": {},
   "outputs": [
    {
     "data": {
      "text/plain": [
       "array([ 1. ,  1.5,  2. ,  0. ,  3. ,  4. ,  2.5,  4.5,  3.5,  5. ,  6. ,\n",
       "        6.5,  5.5,  7. , 10. ])"
      ]
     },
     "execution_count": 17,
     "metadata": {},
     "output_type": "execute_result"
    }
   ],
   "source": [
    "rent['bathrooms'].unique()"
   ]
  },
  {
   "cell_type": "code",
   "execution_count": 18,
   "metadata": {},
   "outputs": [
    {
     "data": {
      "text/plain": [
       "1.0     39422\n",
       "2.0      7660\n",
       "3.0       745\n",
       "1.5       645\n",
       "0.0       313\n",
       "2.5       277\n",
       "4.0       159\n",
       "3.5        70\n",
       "4.5        29\n",
       "5.0        20\n",
       "5.5         5\n",
       "6.0         4\n",
       "10.0        1\n",
       "6.5         1\n",
       "7.0         1\n",
       "Name: bathrooms, dtype: int64"
      ]
     },
     "execution_count": 18,
     "metadata": {},
     "output_type": "execute_result"
    }
   ],
   "source": [
    "rent['bathrooms'].value_counts()"
   ]
  },
  {
   "cell_type": "code",
   "execution_count": 19,
   "metadata": {},
   "outputs": [
    {
     "data": {
      "text/plain": [
       "1.0     39422\n",
       "2.0      7660\n",
       "3.0       745\n",
       "1.5       645\n",
       "0.0       313\n",
       "2.5       277\n",
       "4.0       159\n",
       "3.5        70\n",
       "4.5        29\n",
       "5.0        20\n",
       "5.5         5\n",
       "6.0         4\n",
       "10.0        1\n",
       "6.5         1\n",
       "7.0         1\n",
       "Name: bathrooms, dtype: int64"
      ]
     },
     "execution_count": 19,
     "metadata": {},
     "output_type": "execute_result"
    }
   ],
   "source": [
    "rent['bathrooms'].value_counts()"
   ]
  },
  {
   "cell_type": "code",
   "execution_count": 20,
   "metadata": {},
   "outputs": [
    {
     "data": {
      "text/plain": [
       "e6472c7237327dd3903b3d6f6a94515a    2533\n",
       "6e5c10246156ae5bdcd9b487ca99d96a     711\n",
       "8f5a9c893f6d602f4953fcc0b8e6e9b4     410\n",
       "62b685cc0d876c3a1a51d63a0d6a8082     402\n",
       "cb87dadbca78fad02b388dc9e8f25a5b     373\n",
       "Name: manager_id, dtype: int64"
      ]
     },
     "execution_count": 20,
     "metadata": {},
     "output_type": "execute_result"
    }
   ],
   "source": [
    "rent['manager_id'].value_counts().head(5)"
   ]
  },
  {
   "cell_type": "code",
   "execution_count": 21,
   "metadata": {},
   "outputs": [
    {
     "data": {
      "image/png": "[encoded data removed]",
      "text/plain": [
       "<Figure size 288x216 with 1 Axes>"
      ]
     },
     "metadata": {
      "image/png": {
       "height": 207,
       "width": 276
      },
      "needs_background": "light"
     },
     "output_type": "display_data"
    }
   ],
   "source": [
    "fig, ax = plt.subplots(figsize=(4,3))\n",
    "ax.hist(rent['bedrooms'],color = \"skyblue\",edgecolor='black', linewidth=1)\n",
    "ax.set_xlabel(\"bedrooms\")\n",
    "plt.show()"
   ]
  },
  {
   "cell_type": "code",
   "execution_count": 22,
   "metadata": {},
   "outputs": [
    {
     "data": {
      "image/png": "[encoded data removed]",
      "text/plain": [
       "<Figure size 504x216 with 2 Axes>"
      ]
     },
     "metadata": {
      "image/png": {
       "height": 207,
       "width": 494
      },
      "needs_background": "light"
     },
     "output_type": "display_data"
    }
   ],
   "source": [
    "# Here's how you put two graphs side-by-side:\n",
    "fig, axes = plt.subplots(nrows=1, ncols=2, figsize=(7,3))\n",
    "axes[0].hist(rent['bedrooms'],color = \"skyblue\",edgecolor='black', linewidth=1)\n",
    "axes[0].set_xlabel(\"bedrooms\")\n",
    "axes[1].hist(rent['bathrooms'],color = \"skyblue\",edgecolor='black', linewidth=1)\n",
    "axes[1].set_xlabel(\"bathrooms\")\n",
    "plt.tight_layout() #  we need this to separate the plots!\n",
    "plt.show()"
   ]
  },
  {
   "cell_type": "markdown",
   "metadata": {},
   "source": [
    "Anomalies!\n",
    "Look for any anomalies"
   ]
  },
  {
   "cell_type": "code",
   "execution_count": 23,
   "metadata": {},
   "outputs": [
    {
     "data": {
      "image/png": "[encoded data removed]",
      "text/plain": [
       "<Figure size 288x216 with 1 Axes>"
      ]
     },
     "metadata": {
      "image/png": {
       "height": 207,
       "width": 276
      },
      "needs_background": "light"
     },
     "output_type": "display_data"
    }
   ],
   "source": [
    "fig, ax = plt.subplots(figsize=(4,3))\n",
    "ax.hist(rent['price'],color = \"skyblue\",edgecolor='black', linewidth=1)\n",
    "ax.set_xlabel(\"price\")\n",
    "plt.show()"
   ]
  },
  {
   "cell_type": "markdown",
   "metadata": {},
   "source": [
    "Histogram show prices very strange"
   ]
  },
  {
   "cell_type": "code",
   "execution_count": 24,
   "metadata": {},
   "outputs": [
    {
     "data": {
      "text/plain": [
       "32611     4490000\n",
       "12168     1150000\n",
       "57803     1070000\n",
       "55437     1070000\n",
       "123877     135000\n",
       "4620       111111\n",
       "91709      100000\n",
       "54148       90000\n",
       "116586      85000\n",
       "96905       80000\n",
       "Name: price, dtype: int64"
      ]
     },
     "execution_count": 24,
     "metadata": {},
     "output_type": "execute_result"
    }
   ],
   "source": [
    "rent['price'].sort_values(ascending=False).head(10)"
   ]
  },
  {
   "cell_type": "markdown",
   "metadata": {},
   "source": [
    "Some of the apartments cost over 1 million a month! That doesn't make any sense. How can this be?\n",
    "People are putting their apartments for sale not rent on this website as well.\n",
    "\n",
    "If we plot only those records with a maximum price of $10,000 we'll see something a little more interesting. Let's investigate by doing a query on the data frame. Recall that, given a series, the relational operators return a series of Boolean values:"
   ]
  },
  {
   "cell_type": "code",
   "execution_count": 25,
   "metadata": {},
   "outputs": [
    {
     "data": {
      "text/html": [
       "<div>\n",
       "<style scoped>\n",
       "    .dataframe tbody tr th:only-of-type {\n",
       "        vertical-align: middle;\n",
       "    }\n",
       "\n",
       "    .dataframe tbody tr th {\n",
       "        vertical-align: top;\n",
       "    }\n",
       "\n",
       "    .dataframe thead th {\n",
       "        text-align: right;\n",
       "    }\n",
       "</style>\n",
       "<table border=\"1\" class=\"dataframe\">\n",
       "  <thead>\n",
       "    <tr style=\"text-align: right;\">\n",
       "      <th></th>\n",
       "      <th>4</th>\n",
       "      <th>6</th>\n",
       "    </tr>\n",
       "  </thead>\n",
       "  <tbody>\n",
       "    <tr>\n",
       "      <td>bathrooms</td>\n",
       "      <td>1</td>\n",
       "      <td>1</td>\n",
       "    </tr>\n",
       "    <tr>\n",
       "      <td>bedrooms</td>\n",
       "      <td>1</td>\n",
       "      <td>2</td>\n",
       "    </tr>\n",
       "    <tr>\n",
       "      <td>building_id</td>\n",
       "      <td>8579a0b0d54db803821a35a4a615e97a</td>\n",
       "      <td>b8e75fc949a6cd8225b455648a951712</td>\n",
       "    </tr>\n",
       "    <tr>\n",
       "      <td>created</td>\n",
       "      <td>2016-06-16 05:55:27</td>\n",
       "      <td>2016-06-01 05:44:33</td>\n",
       "    </tr>\n",
       "    <tr>\n",
       "      <td>description</td>\n",
       "      <td>Spacious 1 Bedroom 1 Bathroom in Williamsburg!...</td>\n",
       "      <td>BRAND NEW GUT RENOVATED TRUE 2 BEDROOMFind you...</td>\n",
       "    </tr>\n",
       "    <tr>\n",
       "      <td>display_address</td>\n",
       "      <td>145 Borinquen Place</td>\n",
       "      <td>East 44th</td>\n",
       "    </tr>\n",
       "    <tr>\n",
       "      <td>features</td>\n",
       "      <td>[Dining Room, Pre-War, Laundry in Building, Di...</td>\n",
       "      <td>[Doorman, Elevator, Laundry in Building, Dishw...</td>\n",
       "    </tr>\n",
       "    <tr>\n",
       "      <td>latitude</td>\n",
       "      <td>40.7108</td>\n",
       "      <td>40.7513</td>\n",
       "    </tr>\n",
       "    <tr>\n",
       "      <td>listing_id</td>\n",
       "      <td>7170325</td>\n",
       "      <td>7092344</td>\n",
       "    </tr>\n",
       "    <tr>\n",
       "      <td>longitude</td>\n",
       "      <td>-73.9539</td>\n",
       "      <td>-73.9722</td>\n",
       "    </tr>\n",
       "    <tr>\n",
       "      <td>manager_id</td>\n",
       "      <td>a10db4590843d78c784171a107bdacb4</td>\n",
       "      <td>955db33477af4f40004820b4aed804a0</td>\n",
       "    </tr>\n",
       "    <tr>\n",
       "      <td>photos</td>\n",
       "      <td>[https://photos.renthop.com/2/7170325_3bb5ac84...</td>\n",
       "      <td>[https://photos.renthop.com/2/7092344_7663c19a...</td>\n",
       "    </tr>\n",
       "    <tr>\n",
       "      <td>price</td>\n",
       "      <td>2400</td>\n",
       "      <td>3800</td>\n",
       "    </tr>\n",
       "    <tr>\n",
       "      <td>street_address</td>\n",
       "      <td>145 Borinquen Place</td>\n",
       "      <td>230 East 44th</td>\n",
       "    </tr>\n",
       "    <tr>\n",
       "      <td>interest_level</td>\n",
       "      <td>medium</td>\n",
       "      <td>low</td>\n",
       "    </tr>\n",
       "  </tbody>\n",
       "</table>\n",
       "</div>"
      ],
      "text/plain": [
       "                                                                 4  \\\n",
       "bathrooms                                                        1   \n",
       "bedrooms                                                         1   \n",
       "building_id                       8579a0b0d54db803821a35a4a615e97a   \n",
       "created                                        2016-06-16 05:55:27   \n",
       "description      Spacious 1 Bedroom 1 Bathroom in Williamsburg!...   \n",
       "display_address                                145 Borinquen Place   \n",
       "features         [Dining Room, Pre-War, Laundry in Building, Di...   \n",
       "latitude                                                   40.7108   \n",
       "listing_id                                                 7170325   \n",
       "longitude                                                 -73.9539   \n",
       "manager_id                        a10db4590843d78c784171a107bdacb4   \n",
       "photos           [https://photos.renthop.com/2/7170325_3bb5ac84...   \n",
       "price                                                         2400   \n",
       "street_address                                 145 Borinquen Place   \n",
       "interest_level                                              medium   \n",
       "\n",
       "                                                                 6  \n",
       "bathrooms                                                        1  \n",
       "bedrooms                                                         2  \n",
       "building_id                       b8e75fc949a6cd8225b455648a951712  \n",
       "created                                        2016-06-01 05:44:33  \n",
       "description      BRAND NEW GUT RENOVATED TRUE 2 BEDROOMFind you...  \n",
       "display_address                                          East 44th  \n",
       "features         [Doorman, Elevator, Laundry in Building, Dishw...  \n",
       "latitude                                                   40.7513  \n",
       "listing_id                                                 7092344  \n",
       "longitude                                                 -73.9722  \n",
       "manager_id                        955db33477af4f40004820b4aed804a0  \n",
       "photos           [https://photos.renthop.com/2/7092344_7663c19a...  \n",
       "price                                                         3800  \n",
       "street_address                                       230 East 44th  \n",
       "interest_level                                                 low  "
      ]
     },
     "execution_count": 25,
     "metadata": {},
     "output_type": "execute_result"
    }
   ],
   "source": [
    "rent[rent['price']<=10_000].head(2).T #We can then use that Boolean vector as an index on the data frame itself, which pandas interprets as selecting rows where the index value is true:"
   ]
  },
  {
   "cell_type": "markdown",
   "metadata": {},
   "source": [
    "For convenience, let's get a new view of the data set by storing the resulting query data frame into a new variable. Then we can plot the histogram:"
   ]
  },
  {
   "cell_type": "code",
   "execution_count": 26,
   "metadata": {},
   "outputs": [
    {
     "data": {
      "image/png": "[encoded data removed]",
      "text/plain": [
       "<Figure size 216x144 with 1 Axes>"
      ]
     },
     "metadata": {
      "image/png": {
       "height": 153,
       "width": 229
      },
      "needs_background": "light"
     },
     "output_type": "display_data"
    }
   ],
   "source": [
    "cheap = rent[rent['price']<=10_000]\n",
    "fig, ax = plt.subplots(figsize=(3,2))\n",
    "ax.hist(cheap['price'],color = \"skyblue\",edgecolor='black', linewidth=1)\n",
    "ax.set_xlabel(\"price < 10k\")\n",
    "plt.show()"
   ]
  },
  {
   "cell_type": "markdown",
   "metadata": {},
   "source": [
    "In order to test more than one relational expression at once, we need to surround the operands with (...) and use the & operator for and. Use | for *ord."
   ]
  },
  {
   "cell_type": "code",
   "execution_count": 27,
   "metadata": {},
   "outputs": [
    {
     "data": {
      "text/plain": [
       "117339      401\n",
       "102756      695\n",
       "113552      695\n",
       "113599      695\n",
       "85617       695\n",
       "          ...  \n",
       "119271    10000\n",
       "55073     10000\n",
       "6200      10000\n",
       "3452      10000\n",
       "102572    10000\n",
       "Name: price, Length: 48472, dtype: int64"
      ]
     },
     "execution_count": 27,
     "metadata": {},
     "output_type": "execute_result"
    }
   ],
   "source": [
    "rent[(rent['price'] <= 10_000) &\n",
    "        (rent['price'] > 100)]['price'].sort_values()"
   ]
  },
  {
   "cell_type": "code",
   "execution_count": 28,
   "metadata": {},
   "outputs": [
    {
     "data": {
      "text/plain": [
       "32963    68\n",
       "3411     60\n",
       "2672     50\n",
       "84898    46\n",
       "85197    46\n",
       "Name: photos, dtype: int64"
      ]
     },
     "execution_count": 28,
     "metadata": {},
     "output_type": "execute_result"
    }
   ],
   "source": [
    "numphotos = rent['photos'].apply(len)\n",
    "numphotos.sort_values(ascending =False).head(5)"
   ]
  },
  {
   "cell_type": "markdown",
   "metadata": {},
   "source": [
    "Lets investigate record with most photos"
   ]
  },
  {
   "cell_type": "code",
   "execution_count": 29,
   "metadata": {},
   "outputs": [
    {
     "data": {
      "text/html": [
       "<div>\n",
       "<style scoped>\n",
       "    .dataframe tbody tr th:only-of-type {\n",
       "        vertical-align: middle;\n",
       "    }\n",
       "\n",
       "    .dataframe tbody tr th {\n",
       "        vertical-align: top;\n",
       "    }\n",
       "\n",
       "    .dataframe thead th {\n",
       "        text-align: right;\n",
       "    }\n",
       "</style>\n",
       "<table border=\"1\" class=\"dataframe\">\n",
       "  <thead>\n",
       "    <tr style=\"text-align: right;\">\n",
       "      <th></th>\n",
       "      <th>bathrooms</th>\n",
       "      <th>bedrooms</th>\n",
       "      <th>building_id</th>\n",
       "      <th>created</th>\n",
       "      <th>description</th>\n",
       "      <th>display_address</th>\n",
       "      <th>features</th>\n",
       "      <th>latitude</th>\n",
       "      <th>listing_id</th>\n",
       "      <th>longitude</th>\n",
       "      <th>manager_id</th>\n",
       "      <th>photos</th>\n",
       "      <th>price</th>\n",
       "      <th>street_address</th>\n",
       "      <th>interest_level</th>\n",
       "    </tr>\n",
       "  </thead>\n",
       "  <tbody>\n",
       "    <tr>\n",
       "      <td>32963</td>\n",
       "      <td>3.0</td>\n",
       "      <td>3</td>\n",
       "      <td>0</td>\n",
       "      <td>2016-06-25 02:54:01</td>\n",
       "      <td>BACK TO SCHOOL ! FAMILY HOME, three BIG bedroo...</td>\n",
       "      <td>The Somerset 1365 York Avenue</td>\n",
       "      <td>[Fitness Center, Childrens Playroom, Residents...</td>\n",
       "      <td>40.7674</td>\n",
       "      <td>7214466</td>\n",
       "      <td>-73.9538</td>\n",
       "      <td>9df32cb8dda19d3222d66e69e258616b</td>\n",
       "      <td>[https://photos.renthop.com/2/7214466_4000a418...</td>\n",
       "      <td>7995</td>\n",
       "      <td>The Somerset 1365 York Avenue</td>\n",
       "      <td>low</td>\n",
       "    </tr>\n",
       "  </tbody>\n",
       "</table>\n",
       "</div>"
      ],
      "text/plain": [
       "       bathrooms  bedrooms building_id              created  \\\n",
       "32963        3.0         3           0  2016-06-25 02:54:01   \n",
       "\n",
       "                                             description  \\\n",
       "32963  BACK TO SCHOOL ! FAMILY HOME, three BIG bedroo...   \n",
       "\n",
       "                     display_address  \\\n",
       "32963  The Somerset 1365 York Avenue   \n",
       "\n",
       "                                                features  latitude  \\\n",
       "32963  [Fitness Center, Childrens Playroom, Residents...   40.7674   \n",
       "\n",
       "       listing_id  longitude                        manager_id  \\\n",
       "32963     7214466   -73.9538  9df32cb8dda19d3222d66e69e258616b   \n",
       "\n",
       "                                                  photos  price  \\\n",
       "32963  [https://photos.renthop.com/2/7214466_4000a418...   7995   \n",
       "\n",
       "                      street_address interest_level  \n",
       "32963  The Somerset 1365 York Avenue            low  "
      ]
     },
     "execution_count": 29,
     "metadata": {},
     "output_type": "execute_result"
    }
   ],
   "source": [
    "rent[numphotos>60]"
   ]
  },
  {
   "cell_type": "markdown",
   "metadata": {},
   "source": [
    "There is no issue with the data except there are bunch of pictures on  the profile"
   ]
  },
  {
   "cell_type": "code",
   "execution_count": 30,
   "metadata": {},
   "outputs": [
    {
     "data": {
      "image/png": "[encoded data removed]",
      "text/plain": [
       "<Figure size 288x216 with 1 Axes>"
      ]
     },
     "metadata": {
      "image/png": {
       "height": 207,
       "width": 276
      },
      "needs_background": "light"
     },
     "output_type": "display_data"
    }
   ],
   "source": [
    "fig, ax = plt.subplots(figsize=(4,3))\n",
    "ax.hist(rent['bathrooms'],color = \"skyblue\",edgecolor='black', linewidth=1)\n",
    "ax.set_xlabel(\"Bathrooms\")\n",
    "plt.show()"
   ]
  },
  {
   "cell_type": "code",
   "execution_count": 31,
   "metadata": {},
   "outputs": [
    {
     "data": {
      "text/plain": [
       "1.0     39422\n",
       "2.0      7660\n",
       "3.0       745\n",
       "1.5       645\n",
       "0.0       313\n",
       "2.5       277\n",
       "4.0       159\n",
       "3.5        70\n",
       "4.5        29\n",
       "5.0        20\n",
       "5.5         5\n",
       "6.0         4\n",
       "10.0        1\n",
       "6.5         1\n",
       "7.0         1\n",
       "Name: bathrooms, dtype: int64"
      ]
     },
     "execution_count": 31,
     "metadata": {},
     "output_type": "execute_result"
    }
   ],
   "source": [
    "rent['bathrooms'].value_counts()"
   ]
  },
  {
   "cell_type": "markdown",
   "metadata": {},
   "source": [
    "Most of the places have single bath rooms lets plot bedrooms to evaluate the bed to bath ratio"
   ]
  },
  {
   "cell_type": "code",
   "execution_count": 32,
   "metadata": {},
   "outputs": [
    {
     "data": {
      "text/html": [
       "<div>\n",
       "<style scoped>\n",
       "    .dataframe tbody tr th:only-of-type {\n",
       "        vertical-align: middle;\n",
       "    }\n",
       "\n",
       "    .dataframe tbody tr th {\n",
       "        vertical-align: top;\n",
       "    }\n",
       "\n",
       "    .dataframe thead th {\n",
       "        text-align: right;\n",
       "    }\n",
       "</style>\n",
       "<table border=\"1\" class=\"dataframe\">\n",
       "  <thead>\n",
       "    <tr style=\"text-align: right;\">\n",
       "      <th></th>\n",
       "      <th>26937</th>\n",
       "      <th>84566</th>\n",
       "      <th>104459</th>\n",
       "    </tr>\n",
       "  </thead>\n",
       "  <tbody>\n",
       "    <tr>\n",
       "      <td>bathrooms</td>\n",
       "      <td>6.5</td>\n",
       "      <td>7</td>\n",
       "      <td>10</td>\n",
       "    </tr>\n",
       "    <tr>\n",
       "      <td>bedrooms</td>\n",
       "      <td>7</td>\n",
       "      <td>5</td>\n",
       "      <td>2</td>\n",
       "    </tr>\n",
       "    <tr>\n",
       "      <td>building_id</td>\n",
       "      <td>3be1175591e290053aa6997ac8f4e3bb</td>\n",
       "      <td>0</td>\n",
       "      <td>424f8014bddc288d26da5fe81d0bea02</td>\n",
       "    </tr>\n",
       "    <tr>\n",
       "      <td>created</td>\n",
       "      <td>2016-06-22 03:15:54</td>\n",
       "      <td>2016-04-07 17:06:29</td>\n",
       "      <td>2016-04-09 04:34:31</td>\n",
       "    </tr>\n",
       "    <tr>\n",
       "      <td>description</td>\n",
       "      <td>This landmark English stone manor sits majesti...</td>\n",
       "      <td>Extraordinary in every way. This single family...</td>\n",
       "      <td>***The building?s well-attended lobby welcomes...</td>\n",
       "    </tr>\n",
       "    <tr>\n",
       "      <td>display_address</td>\n",
       "      <td>206 Upper Mountain Avenu</td>\n",
       "      <td>West 9th St- High Class Townhome</td>\n",
       "      <td>W 52 St.</td>\n",
       "    </tr>\n",
       "    <tr>\n",
       "      <td>features</td>\n",
       "      <td>[Garage, Garden, Doorman]</td>\n",
       "      <td>[]</td>\n",
       "      <td>[Doorman, Elevator, Fitness Center, Laundry in...</td>\n",
       "    </tr>\n",
       "    <tr>\n",
       "      <td>latitude</td>\n",
       "      <td>40.8336</td>\n",
       "      <td>40.7335</td>\n",
       "      <td>40.7633</td>\n",
       "    </tr>\n",
       "    <tr>\n",
       "      <td>listing_id</td>\n",
       "      <td>7198431</td>\n",
       "      <td>6840943</td>\n",
       "      <td>6849204</td>\n",
       "    </tr>\n",
       "    <tr>\n",
       "      <td>longitude</td>\n",
       "      <td>-74.216</td>\n",
       "      <td>-73.9974</td>\n",
       "      <td>-73.9849</td>\n",
       "    </tr>\n",
       "    <tr>\n",
       "      <td>manager_id</td>\n",
       "      <td>1d019cccf631394cd7f2aba471a54ca4</td>\n",
       "      <td>e6472c7237327dd3903b3d6f6a94515a</td>\n",
       "      <td>0c71a59cb70215fbf49c9dd93efaa172</td>\n",
       "    </tr>\n",
       "    <tr>\n",
       "      <td>photos</td>\n",
       "      <td>[https://photos.renthop.com/2/7198431_70d9d8ff...</td>\n",
       "      <td>[https://photos.renthop.com/2/6840943_7f4b82cf...</td>\n",
       "      <td>[https://photos.renthop.com/2/6849204_1f92b58a...</td>\n",
       "    </tr>\n",
       "    <tr>\n",
       "      <td>price</td>\n",
       "      <td>14500</td>\n",
       "      <td>60000</td>\n",
       "      <td>3600</td>\n",
       "    </tr>\n",
       "    <tr>\n",
       "      <td>street_address</td>\n",
       "      <td>206 Upper Mountain Avenu</td>\n",
       "      <td>47th West 9th St</td>\n",
       "      <td>260 W 52 St.</td>\n",
       "    </tr>\n",
       "    <tr>\n",
       "      <td>interest_level</td>\n",
       "      <td>low</td>\n",
       "      <td>low</td>\n",
       "      <td>low</td>\n",
       "    </tr>\n",
       "  </tbody>\n",
       "</table>\n",
       "</div>"
      ],
      "text/plain": [
       "                                                            26937   \\\n",
       "bathrooms                                                      6.5   \n",
       "bedrooms                                                         7   \n",
       "building_id                       3be1175591e290053aa6997ac8f4e3bb   \n",
       "created                                        2016-06-22 03:15:54   \n",
       "description      This landmark English stone manor sits majesti...   \n",
       "display_address                           206 Upper Mountain Avenu   \n",
       "features                                 [Garage, Garden, Doorman]   \n",
       "latitude                                                   40.8336   \n",
       "listing_id                                                 7198431   \n",
       "longitude                                                  -74.216   \n",
       "manager_id                        1d019cccf631394cd7f2aba471a54ca4   \n",
       "photos           [https://photos.renthop.com/2/7198431_70d9d8ff...   \n",
       "price                                                        14500   \n",
       "street_address                            206 Upper Mountain Avenu   \n",
       "interest_level                                                 low   \n",
       "\n",
       "                                                            84566   \\\n",
       "bathrooms                                                        7   \n",
       "bedrooms                                                         5   \n",
       "building_id                                                      0   \n",
       "created                                        2016-04-07 17:06:29   \n",
       "description      Extraordinary in every way. This single family...   \n",
       "display_address                   West 9th St- High Class Townhome   \n",
       "features                                                        []   \n",
       "latitude                                                   40.7335   \n",
       "listing_id                                                 6840943   \n",
       "longitude                                                 -73.9974   \n",
       "manager_id                        e6472c7237327dd3903b3d6f6a94515a   \n",
       "photos           [https://photos.renthop.com/2/6840943_7f4b82cf...   \n",
       "price                                                        60000   \n",
       "street_address                                    47th West 9th St   \n",
       "interest_level                                                 low   \n",
       "\n",
       "                                                            104459  \n",
       "bathrooms                                                       10  \n",
       "bedrooms                                                         2  \n",
       "building_id                       424f8014bddc288d26da5fe81d0bea02  \n",
       "created                                        2016-04-09 04:34:31  \n",
       "description      ***The building?s well-attended lobby welcomes...  \n",
       "display_address                                           W 52 St.  \n",
       "features         [Doorman, Elevator, Fitness Center, Laundry in...  \n",
       "latitude                                                   40.7633  \n",
       "listing_id                                                 6849204  \n",
       "longitude                                                 -73.9849  \n",
       "manager_id                        0c71a59cb70215fbf49c9dd93efaa172  \n",
       "photos           [https://photos.renthop.com/2/6849204_1f92b58a...  \n",
       "price                                                         3600  \n",
       "street_address                                        260 W 52 St.  \n",
       "interest_level                                                 low  "
      ]
     },
     "execution_count": 32,
     "metadata": {},
     "output_type": "execute_result"
    }
   ],
   "source": [
    "rent[rent['bathrooms']>6].T"
   ]
  },
  {
   "cell_type": "markdown",
   "metadata": {},
   "source": [
    "Place with 10 bathrooms have only 2 bedrooms and price is 3600 which is very unusal. The bedroom data must be faulty for this record as it is teh outlier."
   ]
  },
  {
   "cell_type": "markdown",
   "metadata": {},
   "source": [
    "### Digging deeper into the data"
   ]
  },
  {
   "cell_type": "markdown",
   "metadata": {},
   "source": [
    "###### The relationship between features."
   ]
  },
  {
   "cell_type": "markdown",
   "metadata": {},
   "source": [
    "If I were trying to rent an apartment, I'd like to know what people are willing to pay for. That means we should look at the relationship between various features and rent price. Let's start out by blindly computing the correlation coefficient between bedrooms in price then bathrooms in price:"
   ]
  },
  {
   "cell_type": "code",
   "execution_count": 33,
   "metadata": {},
   "outputs": [
    {
     "data": {
      "text/plain": [
       "array([[1.        , 0.05178807],\n",
       "       [0.05178807, 1.        ]])"
      ]
     },
     "execution_count": 33,
     "metadata": {},
     "output_type": "execute_result"
    }
   ],
   "source": [
    "np.corrcoef(rent['bedrooms'], rent['price'])"
   ]
  },
  {
   "cell_type": "code",
   "execution_count": 34,
   "metadata": {},
   "outputs": [
    {
     "data": {
      "text/plain": [
       "array([[1.        , 0.06966123],\n",
       "       [0.06966123, 1.        ]])"
      ]
     },
     "execution_count": 34,
     "metadata": {},
     "output_type": "execute_result"
    }
   ],
   "source": [
    "np.corrcoef(rent['bathrooms'], rent['price'])"
   ]
  },
  {
   "cell_type": "markdown",
   "metadata": {},
   "source": [
    "That is very strange. There's not seem to be a correlation, which is counterintuitive. Either our intuition is wrong or the data is wrong, or at least misleading. Recall that there are some apartments that are for sale rather than for rent so let's filter those out:"
   ]
  },
  {
   "cell_type": "code",
   "execution_count": 35,
   "metadata": {},
   "outputs": [
    {
     "data": {
      "text/plain": [
       "48474"
      ]
     },
     "execution_count": 35,
     "metadata": {},
     "output_type": "execute_result"
    }
   ],
   "source": [
    "rent = rent[rent['price']<=10_000].copy() # make copy so we can modify below\n",
    "len(rent)"
   ]
  },
  {
   "cell_type": "code",
   "execution_count": 36,
   "metadata": {},
   "outputs": [
    {
     "data": {
      "text/plain": [
       "0.5596391219420092"
      ]
     },
     "execution_count": 36,
     "metadata": {},
     "output_type": "execute_result"
    }
   ],
   "source": [
    "np.corrcoef(rent['bedrooms'], rent['price'])[0,1]"
   ]
  },
  {
   "cell_type": "code",
   "execution_count": 37,
   "metadata": {},
   "outputs": [
    {
     "data": {
      "text/plain": [
       "0.6359309382693205"
      ]
     },
     "execution_count": 37,
     "metadata": {},
     "output_type": "execute_result"
    }
   ],
   "source": [
    "np.corrcoef(rent['bathrooms'], rent['price'])[0,1]"
   ]
  },
  {
   "cell_type": "markdown",
   "metadata": {},
   "source": [
    "Now we can see the increase in correlations"
   ]
  },
  {
   "cell_type": "markdown",
   "metadata": {},
   "source": [
    "It would appear that New Yorkers really care about bathrooms. Can we conclude that from these correlations?\n",
    "\n",
    "Let's plot the relationship to see if anything pops up:"
   ]
  },
  {
   "cell_type": "code",
   "execution_count": 38,
   "metadata": {},
   "outputs": [
    {
     "data": {
      "image/png": "[encoded data removed]",
      "text/plain": [
       "<Figure size 216x216 with 1 Axes>"
      ]
     },
     "metadata": {
      "image/png": {
       "height": 207,
       "width": 238
      },
      "needs_background": "light"
     },
     "output_type": "display_data"
    }
   ],
   "source": [
    "fig, ax = plt.subplots(figsize=(3,3))  # make one subplot (ax) on the figure\n",
    "ax.scatter(rent['bathrooms'], rent['price'], alpha=.1)\n",
    "\n",
    "ax.set_xlabel(\"bathrooms\")\n",
    "ax.set_ylabel(\"price\")\n",
    "plt.show()"
   ]
  },
  {
   "cell_type": "markdown",
   "metadata": {},
   "source": [
    "Ok, we can see here that, for a given number of bathrooms, there is a wide range of rent prices: the vertical dots for any X location are widely spread out.\n",
    "\n",
    "A better visualization would probably be a box plot or violin plot. In both cases, we need a list of values for each box or \"violin\", which we can do by selecting the price for all low, medium, and high interest levels:"
   ]
  },
  {
   "cell_type": "code",
   "execution_count": 39,
   "metadata": {},
   "outputs": [],
   "source": [
    "low = rent[rent['interest_level']=='low']['price'].values\n",
    "med = rent[rent['interest_level']=='medium']['price'].values\n",
    "hi  = rent[rent['interest_level']=='high']['price'].values"
   ]
  },
  {
   "cell_type": "markdown",
   "metadata": {},
   "source": [
    "Please explain the order of operations and the data type of each sub expression for the assignment to low.\n",
    "Ok, and here's how to do the box and violin plot together:"
   ]
  },
  {
   "cell_type": "code",
   "execution_count": 40,
   "metadata": {},
   "outputs": [
    {
     "data": {
      "image/png": "[encoded data removed]",
      "text/plain": [
       "<Figure size 432x180 with 2 Axes>"
      ]
     },
     "metadata": {
      "image/png": {
       "height": 171,
       "width": 424
      },
      "needs_background": "light"
     },
     "output_type": "display_data"
    }
   ],
   "source": [
    "fig, axes = plt.subplots(nrows=1, ncols=2, figsize=(6,2.5))  # make side-by-side plot\n",
    "\n",
    "axes[0].boxplot([low, med, hi], showfliers=False) # don't show outliers\n",
    "axes[0].set_xticks(range(1,3+1))\n",
    "axes[0].set_xticklabels(['low','med','hi'])  # set labels on the X axis\n",
    "axes[0].set_xlabel(\"Interest level\")\n",
    "axes[0].set_ylabel(\"Price\")\n",
    "\n",
    "axes[1].violinplot([low, med, hi])\n",
    "axes[1].set_xticks(range(1,3+1))\n",
    "axes[1].set_xticklabels(['low','med','hi'])  # set labels on the X axis\n",
    "axes[1].set_xlabel(\"Interest level\")\n",
    "axes[1].set_ylabel(\"Price\")\n",
    "\n",
    "plt.tight_layout()\n",
    "plt.show()"
   ]
  },
  {
   "cell_type": "markdown",
   "metadata": {},
   "source": [
    "From this, we can conclude that the highest interest concentration is for lower-priced apartments.\n",
    "\n",
    "From matplotlib doc: \"The box extends from the lower to upper quartile values of the data, with a line at the median. The whiskers extend from the box to show the range of the [quartile] data.\""
   ]
  },
  {
   "cell_type": "markdown",
   "metadata": {},
   "source": [
    "Lets find correlation bet ween photos and price"
   ]
  },
  {
   "cell_type": "code",
   "execution_count": 41,
   "metadata": {},
   "outputs": [
    {
     "data": {
      "text/plain": [
       "0.1566814349526539"
      ]
     },
     "execution_count": 41,
     "metadata": {},
     "output_type": "execute_result"
    }
   ],
   "source": [
    "np.corrcoef(rent['photos'].apply(len), rent['price'])[0,1]"
   ]
  },
  {
   "cell_type": "code",
   "execution_count": 42,
   "metadata": {},
   "outputs": [],
   "source": [
    "#### fig, ax = plt.subplots(figsize=(3,3))  # make one subplot (ax) on the figure\n",
    "ax.scatter(rent['photos'].apply(len), rent['price'], alpha=.1)\n",
    "\n",
    "ax.set_xlabel(\"photos\")\n",
    "ax.set_ylabel(\"price\")\n",
    "plt.show()"
   ]
  },
  {
   "cell_type": "code",
   "execution_count": 43,
   "metadata": {},
   "outputs": [],
   "source": [
    "single = rent[rent['bedrooms']==1]['price'].values\n",
    "double = rent[rent['bedrooms']==2]['price'].values\n",
    "three  = rent[rent['bedrooms']==3]['price'].values"
   ]
  },
  {
   "cell_type": "code",
   "execution_count": 44,
   "metadata": {},
   "outputs": [
    {
     "data": {
      "image/png": "[encoded data removed]",
      "text/plain": [
       "<Figure size 432x180 with 2 Axes>"
      ]
     },
     "metadata": {
      "image/png": {
       "height": 171,
       "width": 424
      },
      "needs_background": "light"
     },
     "output_type": "display_data"
    }
   ],
   "source": [
    "fig, axes = plt.subplots(nrows=1, ncols=2, figsize=(6,2.5))  # make side-by-side plot\n",
    "\n",
    "axes[0].boxplot([single, double, three], showfliers=False) # don't show outliers\n",
    "axes[0].set_xticks(range(1,3+1))\n",
    "axes[0].set_xticklabels(['single','double','three'])  # set labels on the X axis\n",
    "axes[0].set_xlabel(\"Interest level\")\n",
    "axes[0].set_ylabel(\"Price\")\n",
    "\n",
    "axes[1].violinplot([single, double, three])\n",
    "axes[1].set_xticks(range(1,3+1))\n",
    "axes[1].set_xticklabels(['single','double','three'])  # set labels on the X axis\n",
    "axes[1].set_xlabel(\"Interest level\")\n",
    "axes[1].set_ylabel(\"Price\")\n",
    "\n",
    "plt.tight_layout()\n",
    "plt.show()"
   ]
  },
  {
   "cell_type": "markdown",
   "metadata": {},
   "source": [
    "As we can observe that more the bedrooms highger the price. Avg price of single and double bedrooms is closer tham 3 bedroom apartment. \n",
    "Seems like 3 bedroom apartment has higher avg and higher price difference than one and two bed"
   ]
  },
  {
   "cell_type": "markdown",
   "metadata": {},
   "source": [
    "##### Quick machine learning regression check"
   ]
  },
  {
   "cell_type": "code",
   "execution_count": 46,
   "metadata": {},
   "outputs": [],
   "source": [
    "from sklearn.linear_model import LinearRegression\n",
    "from sklearn.metrics import mean_absolute_error, mean_squared_error, r2_score\n",
    "\n",
    "X = cheap[['bedrooms','bathrooms']]#,'latitude','longitude']]\n",
    "y = cheap['price']"
   ]
  },
  {
   "cell_type": "code",
   "execution_count": 49,
   "metadata": {},
   "outputs": [
    {
     "name": "stdout",
     "output_type": "stream",
     "text": [
      "y = 416.8*bedrooms + 1568.9*bathrooms + 966.4\n",
      "R^2 0.479669828143114 MAE 751.3176496416129\n"
     ]
    }
   ],
   "source": [
    "r = LinearRegression(normalize=True)\n",
    "r.fit(X, y)\n",
    "y_pred = r.predict(X)\n",
    "print(f'y = {r.coef_[0]:.1f}*bedrooms + {r.coef_[1]:.1f}*bathrooms + {r.intercept_:.1f}')\n",
    "print('R^2', r.score(X,y), \"MAE\", mean_absolute_error(y, y_pred))"
   ]
  },
  {
   "cell_type": "markdown",
   "metadata": {},
   "source": [
    "For a unit increase in the number of bedrooms, the price is affected by 416.8 dollars and, similarly, a unit increase in the number of bathrooms affects the price by 1568.9. Of course this is on average and totally ignores any confounding variables, of which there are many. This is the big hazard when using regression to look at the relative importance of variables. (Warning: For some reason I'm getting the same coefficients when I normalize X and when I don't, which shouldn't happen. So, basically I'm not trusting the scale of the coefficients in relation to each other for feature importance purposes.)\n",
    "\n",
    "To show you how easy it is to use a different, and more powerful, model let's use a random forest:"
   ]
  },
  {
   "cell_type": "code",
   "execution_count": 50,
   "metadata": {},
   "outputs": [
    {
     "name": "stdout",
     "output_type": "stream",
     "text": [
      "R^2 0.9430588154604673 MAE 191.868294206532\n"
     ]
    }
   ],
   "source": [
    "from sklearn.ensemble import RandomForestRegressor\n",
    "\n",
    "X = cheap[['bedrooms','bathrooms','latitude','longitude']]\n",
    "\n",
    "r = RandomForestRegressor(n_estimators=10) # only this line is different\n",
    "r.fit(X, y)\n",
    "y_pred = r.predict(X)\n",
    "print('R^2', r.score(X,y), \"MAE\", mean_absolute_error(y, y_pred))"
   ]
  },
  {
   "cell_type": "markdown",
   "metadata": {},
   "source": [
    "There is a small increase in accuracy, just by changing the model.\n",
    "\n",
    "We can use something called permutation importance to get an idea of how important the various features are to prediction. The results more or less jive with what we found with linear regression, that bathrooms are more important than bedrooms in terms of price (on average)."
   ]
  },
  {
   "cell_type": "code",
   "execution_count": 51,
   "metadata": {},
   "outputs": [
    {
     "data": {
      "text/plain": [
       "array([0.58506166, 0.50696501, 0.53642381, 0.6140571 ])"
      ]
     },
     "execution_count": 51,
     "metadata": {},
     "output_type": "execute_result"
    }
   ],
   "source": [
    "from sklearn.inspection import permutation_importance\n",
    "\n",
    "I = permutation_importance(r, X, y)\n",
    "I['importances_mean']"
   ]
  }
 ],
 "metadata": {
  "kernelspec": {
   "display_name": "Python 3",
   "language": "python",
   "name": "python3"
  },
  "language_info": {
   "codemirror_mode": {
    "name": "ipython",
    "version": 3
   },
   "file_extension": ".py",
   "mimetype": "text/x-python",
   "name": "python",
   "nbconvert_exporter": "python",
   "pygments_lexer": "ipython3",
   "version": "3.7.4"
  }
 },
 "nbformat": 4,
 "nbformat_minor": 2
}
